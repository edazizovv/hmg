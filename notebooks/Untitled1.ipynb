{
 "cells": [
  {
   "cell_type": "code",
   "execution_count": 14,
   "id": "7217235b",
   "metadata": {},
   "outputs": [],
   "source": [
    "from selenium import webdriver\n",
    "from selenium.webdriver.common.by import By\n",
    "from selenium.webdriver.support.ui import Select\n",
    "from selenium.webdriver.firefox.options import Options"
   ]
  },
  {
   "cell_type": "code",
   "execution_count": null,
   "id": "658541cf",
   "metadata": {},
   "outputs": [],
   "source": []
  },
  {
   "cell_type": "code",
   "execution_count": 2,
   "id": "f1d59cb3",
   "metadata": {},
   "outputs": [],
   "source": [
    "market = 'moex-akcii'\n",
    "name = 'sberbank'\n",
    "code = 'SBER'\n",
    "day_from = '1'\n",
    "month_from = '12'\n",
    "year_from = '2022'\n",
    "day_to = '5'\n",
    "month_to = '12'\n",
    "year_to = '2022'\n",
    "filename = 'onetwo'\n",
    "extension = '.txt'"
   ]
  },
  {
   "cell_type": "code",
   "execution_count": 25,
   "id": "c58fc09e",
   "metadata": {},
   "outputs": [],
   "source": [
    "market = 'mosbirzha-valyutnyj-rynok'\n",
    "name = 'usdrubtod-usd-rub'\n",
    "code = 'USD000000TOD'\n",
    "day_from = '07'\n",
    "month_from = '12'\n",
    "year_from = '2022'\n",
    "day_to = '07'\n",
    "month_to = '12'\n",
    "year_to = '2022'\n",
    "filename = 'onetwo'\n",
    "extension = '.csv'"
   ]
  },
  {
   "cell_type": "code",
   "execution_count": null,
   "id": "c6df21d3",
   "metadata": {},
   "outputs": [],
   "source": []
  },
  {
   "cell_type": "code",
   "execution_count": 26,
   "id": "e960b0d4",
   "metadata": {},
   "outputs": [],
   "source": [
    "query_url = \"https://www.finam.ru/profile/{market}/{name}/export/\" \\\n",
    "            \"?market=1&em=3&token=&code={code}&apply=0&df={day_from}&mf={month_from}&yf={year_from}&from={day_from}.{month_from}.{year_from}&dt={day_to}&mt={month_to}&yt={year_to}\" \\\n",
    "            \"&to={day_to}.{month_to}.{year_to}&p=2&f=EinsZweiPolizei&e={extension}&cn={code}&dtf=1&tmf=1&MSOR=1&mstime=on&mstimever=1\" \\\n",
    "            \"&sep=1&sep2=1&datf=1&at=1&fsp=1\".format(market=market, name=name, code=code,\n",
    "                                                     day_from=day_from, month_from=month_from, year_from=year_from,\n",
    "                                                     day_to=day_to, month_to=month_to, year_to=year_to,\n",
    "                                                     extension=extension)"
   ]
  },
  {
   "cell_type": "code",
   "execution_count": 27,
   "id": "0703e0e1",
   "metadata": {},
   "outputs": [
    {
     "data": {
      "text/plain": [
       "'https://www.finam.ru/profile/mosbirzha-valyutnyj-rynok/usdrubtod-usd-rub/export/?market=1&em=3&token=&code=USD000000TOD&apply=0&df=07&mf=12&yf=2022&from=07.12.2022&dt=07&mt=12&yt=2022&to=07.12.2022&p=2&f=EinsZweiPolizei&e=.csv&cn=USD000000TOD&dtf=1&tmf=1&MSOR=1&mstime=on&mstimever=1&sep=1&sep2=1&datf=1&at=1&fsp=1'"
      ]
     },
     "execution_count": 27,
     "metadata": {},
     "output_type": "execute_result"
    }
   ],
   "source": [
    "query_url"
   ]
  },
  {
   "cell_type": "code",
   "execution_count": null,
   "id": "fe81dcc0",
   "metadata": {},
   "outputs": [],
   "source": []
  },
  {
   "cell_type": "code",
   "execution_count": 1,
   "id": "5be8e238",
   "metadata": {},
   "outputs": [
    {
     "data": {
      "text/plain": [
       "'https://www.finam.ru/profile/moex-akcii/sberbank/export/?market=1&em=3&token=&code=SBER&apply=0&df=1&mf=11&yf=2022&from=01.12.2022&dt=5&mt=11&yt=2022&to=05.12.2022&p=2&f=SBER_221201_221205&e=.csv&cn=SBER&dtf=1&tmf=1&MSOR=1&mstime=on&mstimever=1&sep=1&sep2=1&datf=1&at=1&fsp=1'"
      ]
     },
     "execution_count": 1,
     "metadata": {},
     "output_type": "execute_result"
    }
   ],
   "source": [
    "\"https://www.finam.ru/profile/moex-akcii/sberbank/export/?market=1&em=3&token=&code=SBER&apply=0&df=1&mf=11&yf=2022&from=01.12.2022&dt=5&mt=11&yt=2022&to=05.12.2022&p=2&f=SBER_221201_221205&e=.csv&cn=SBER&dtf=1&tmf=1&MSOR=1&mstime=on&mstimever=1&sep=1&sep2=1&datf=1&at=1&fsp=1\""
   ]
  },
  {
   "cell_type": "code",
   "execution_count": null,
   "id": "05d3fc61",
   "metadata": {},
   "outputs": [],
   "source": []
  },
  {
   "cell_type": "code",
   "execution_count": 7,
   "id": "22b98ba1",
   "metadata": {},
   "outputs": [],
   "source": [
    "query_new = \"https://export.finam.ru/{filename}{extension}\" \\\n",
    "            \"?market=1&em=3&token=&code={code}&apply=0&from={day_from}.{month_from}.{year_from}\" \\\n",
    "            \"&to={day_to}.{month_to}.{year_to}&p=2&f={filename}&e={extension}&cn={code}&dtf=1&tmf=1&MSOR=1&mstime=on&mstimever=1\" \\\n",
    "            \"&sep=1&sep2=1&datf=1&at=1&fsp=1\".format(market=market, name=name, code=code,\n",
    "                                                     day_from=day_from, month_from=month_from, year_from=year_from,\n",
    "                                                     day_to=day_to, month_to=month_to, year_to=year_to,\n",
    "                                                     filename=filename, extension=extension)"
   ]
  },
  {
   "cell_type": "code",
   "execution_count": 8,
   "id": "c963195b",
   "metadata": {},
   "outputs": [
    {
     "data": {
      "text/plain": [
       "'https://export.finam.ru/onetwo.txt?market=1&em=3&token=&code=SBER&apply=0&from=1.12.2022&to=5.12.2022&p=2&f=onetwo&e=.txt&cn=SBER&dtf=1&tmf=1&MSOR=1&mstime=on&mstimever=1&sep=1&sep2=1&datf=1&at=1&fsp=1'"
      ]
     },
     "execution_count": 8,
     "metadata": {},
     "output_type": "execute_result"
    }
   ],
   "source": [
    "query_new"
   ]
  },
  {
   "cell_type": "code",
   "execution_count": 13,
   "id": "3a0e2769",
   "metadata": {},
   "outputs": [
    {
     "data": {
      "text/plain": [
       "'https://www.finam.ru/profile/moex-akcii/gazprom/export/?market=1&em=16842&token=&code=GAZP&apply=0&df=30&mf=10&yf=2022&from=30.11.2022&dt=30&mt=10&yt=2022&to=30.11.2022&p=7&f=GAZP_221130_221130&e=.txt&cn=GAZP&dtf=1&tmf=1&MSOR=1&mstime=on&mstimever=1&sep=1&sep2=1&datf=1&at=1'"
      ]
     },
     "execution_count": 13,
     "metadata": {},
     "output_type": "execute_result"
    }
   ],
   "source": [
    "\"https://www.finam.ru/profile/moex-akcii/gazprom/export/?market=1&em=16842&token=&code=GAZP&apply=0&df=30&mf=10&yf=2022&from=30.11.2022&dt=30&mt=10&yt=2022&to=30.11.2022&p=7&f=GAZP_221130_221130&e=.txt&cn=GAZP&dtf=1&tmf=1&MSOR=1&mstime=on&mstimever=1&sep=1&sep2=1&datf=1&at=1\""
   ]
  },
  {
   "cell_type": "code",
   "execution_count": 15,
   "id": "053fa4f3",
   "metadata": {},
   "outputs": [
    {
     "data": {
      "text/plain": [
       "'https://www.finam.ru/profile/moex-akcii/nornickel-gmk/export/?market=1&em=795&token=&code=GMKN&apply=0&df=30&mf=10&yf=2022&from=30.11.2022&dt=30&mt=10&yt=2022&to=30.11.2022&p=7&f=GMKN_221130_221130&e=.txt&cn=GMKN&dtf=1&tmf=1&MSOR=1&mstime=on&mstimever=1&sep=1&sep2=1&datf=1&at=1'"
      ]
     },
     "execution_count": 15,
     "metadata": {},
     "output_type": "execute_result"
    }
   ],
   "source": [
    "\"https://www.finam.ru/profile/moex-akcii/nornickel-gmk/export/?market=1&em=795&token=&code=GMKN&apply=0&df=30&mf=10&yf=2022&from=30.11.2022&dt=30&mt=10&yt=2022&to=30.11.2022&p=7&f=GMKN_221130_221130&e=.txt&cn=GMKN&dtf=1&tmf=1&MSOR=1&mstime=on&mstimever=1&sep=1&sep2=1&datf=1&at=1\""
   ]
  },
  {
   "cell_type": "code",
   "execution_count": 28,
   "id": "7941b7c4",
   "metadata": {},
   "outputs": [],
   "source": [
    "options = Options()\n",
    "# options.add_argument(\"--headless\")\n",
    "# prefs = {\"download.default_directory\": \"C:/TET/hmg/data\"};\n",
    "# options.add_experimental_option(\"prefs\", prefs);\n",
    "driver = webdriver.Firefox(options=options)\n",
    "driver.get(query_url)\n",
    "pass"
   ]
  },
  {
   "cell_type": "code",
   "execution_count": null,
   "id": "d6fdf3a7",
   "metadata": {},
   "outputs": [],
   "source": [
    "driver.close()"
   ]
  },
  {
   "cell_type": "code",
   "execution_count": 29,
   "id": "6e0037be",
   "metadata": {},
   "outputs": [],
   "source": [
    "# class=\"finam-ui-controls-select-title\"\n",
    "# xpath: /html/body/div[19]/div/ul/li[2]/a\n",
    "# /html/body/div[19]/div/ul/li[1]/a\n",
    "\n",
    "# driver.find_element_by_xpath(\"//div[@id='a']//a[@class='click']\")\n",
    "# river.find_element_by_xpath(\"/html/body/div[19]/div/ul/li[2]/a\")\n",
    "# nein = \"/html/body/div[19]/div/ul/li[2]/a\"\n",
    "nein = \"/html/body/div[3]/div/div[3]/div/table/tbody/tr/td/div/div/div[2]/div[2]/div/div[2]/div[1]/form/table/tbody/tr[1]/td[3]/div/div[1]\"\n",
    "\n",
    "elem = driver.find_element(By.XPATH, nein)\n",
    "\n"
   ]
  },
  {
   "cell_type": "code",
   "execution_count": 30,
   "id": "16c07b4c",
   "metadata": {},
   "outputs": [],
   "source": [
    "elem.click()"
   ]
  },
  {
   "cell_type": "code",
   "execution_count": 31,
   "id": "1f46d3ff",
   "metadata": {},
   "outputs": [],
   "source": [
    "nein = \"/html/body/div[19]/div/ul/li[2]/a\"\n",
    "elem = driver.find_element(By.XPATH, nein)"
   ]
  },
  {
   "cell_type": "code",
   "execution_count": 32,
   "id": "d4655348",
   "metadata": {},
   "outputs": [],
   "source": [
    "elem.click()"
   ]
  },
  {
   "cell_type": "code",
   "execution_count": 33,
   "id": "6b22407d",
   "metadata": {},
   "outputs": [],
   "source": [
    "nein = \"/html/body/div[3]/div/div[3]/div/table/tbody/tr/td/div/div/div[2]/div[2]/div/div[2]/div[1]/form/div/button/span\"\n",
    "elem = driver.find_element(By.XPATH, nein)\n"
   ]
  },
  {
   "cell_type": "code",
   "execution_count": 34,
   "id": "0116870b",
   "metadata": {},
   "outputs": [],
   "source": [
    "elem.click()"
   ]
  },
  {
   "cell_type": "code",
   "execution_count": 19,
   "id": "7fee8d3b",
   "metadata": {},
   "outputs": [],
   "source": [
    "driver = webdriver.Firefox()\n",
    "driver.get(query_url)"
   ]
  },
  {
   "cell_type": "code",
   "execution_count": 20,
   "id": "7807997b",
   "metadata": {},
   "outputs": [],
   "source": [
    "elem = driver.find_element(By.CLASS_NAME, \"finam-ui-dialog-button-cancel\")"
   ]
  },
  {
   "cell_type": "code",
   "execution_count": 21,
   "id": "d42129cf",
   "metadata": {},
   "outputs": [
    {
     "data": {
      "text/plain": [
       "<selenium.webdriver.remote.webelement.WebElement (session=\"dfd572df-9d5a-4f67-a6c0-772843175ed1\", element=\"a9566459-af08-41b9-8d79-ffadc23f141d\")>"
      ]
     },
     "execution_count": 21,
     "metadata": {},
     "output_type": "execute_result"
    }
   ],
   "source": [
    "elem"
   ]
  },
  {
   "cell_type": "code",
   "execution_count": 22,
   "id": "34f956c0",
   "metadata": {},
   "outputs": [],
   "source": [
    "elem.click()"
   ]
  },
  {
   "cell_type": "code",
   "execution_count": null,
   "id": "67f26ca8",
   "metadata": {},
   "outputs": [],
   "source": []
  },
  {
   "cell_type": "code",
   "execution_count": null,
   "id": "b2ab1d50",
   "metadata": {},
   "outputs": [],
   "source": []
  },
  {
   "cell_type": "code",
   "execution_count": 4,
   "id": "885b1fe3",
   "metadata": {},
   "outputs": [
    {
     "data": {
      "text/plain": [
       "'https://www.finam.ru/profile/moex-akcii/sberbank/export/?market=1&em=3&token=&code=SBER&apply=0&df=29&mf=11&yf=2022&from=29.11.2022&dt=30&mt=11&yt=2022&to=30.11.2022&p=2&f=onetwo&e=.csv&cn=SBER&dtf=1&tmf=1&MSOR=1&mstime=on&mstimever=1&sep=1&sep2=1&datf=1&at=1&fsp=1'"
      ]
     },
     "execution_count": 4,
     "metadata": {},
     "output_type": "execute_result"
    }
   ],
   "source": [
    "query_url"
   ]
  },
  {
   "cell_type": "code",
   "execution_count": 5,
   "id": "8ff056c1",
   "metadata": {},
   "outputs": [
    {
     "data": {
      "text/plain": [
       "'https://www.finam.ru/profile/moex-akcii/sberbank/export/?market=1&em=3&token=&code=SBER&apply=0&df=29&mf=11&yf=2022&from=29.11.2022&dt=30&mt=11&yt=2022&to=30.11.2022&p=2&f=onetwo&e=.csv&cn=SBER&dtf=1&tmf=1&MSOR=1&mstime=on&mstimever=1&sep=1&sep2=1&datf=1&at=1&fsp=1'"
      ]
     },
     "execution_count": 5,
     "metadata": {},
     "output_type": "execute_result"
    }
   ],
   "source": [
    "\"https://www.finam.ru/profile/moex-akcii/sberbank/export/?market=1&em=3&token=&code=SBER&apply=0&df=29&mf=11&yf=2022&from=29.11.2022&dt=30&mt=11&yt=2022&to=30.11.2022&p=2&f=onetwo&e=.csv&cn=SBER&dtf=1&tmf=1&MSOR=1&mstime=on&mstimever=1&sep=1&sep2=1&datf=1&at=1&fsp=1\""
   ]
  },
  {
   "cell_type": "code",
   "execution_count": 7,
   "id": "164cbcae",
   "metadata": {},
   "outputs": [
    {
     "data": {
      "text/plain": [
       "'https://www.finam.ru/profile/moex-akcii/sberbank/export/?market=1&em=3&token=&code=SBER&apply=0&df=29&mf=11&yf=2022&from=29.11.2022&dt=30&mt=11&yt=2022&to=30.11.2022&p=2&f=onetwo&e=.csv&cn=SBER&dtf=1&tmf=1&MSOR=1&mstime=on&mstimever=1&sep=1&sep2=1&datf=1&at=1&fsp=1'"
      ]
     },
     "execution_count": 7,
     "metadata": {},
     "output_type": "execute_result"
    }
   ],
   "source": [
    "\"https://www.finam.ru/profile/moex-akcii/sberbank/export/?market=1&em=3&token=&code=SBER&apply=0&df=29&mf=11&yf=2022&from=29.11.2022&dt=30&mt=11&yt=2022&to=30.11.2022&p=2&f=onetwo&e=.csv&cn=SBER&dtf=1&tmf=1&MSOR=1&mstime=on&mstimever=1&sep=1&sep2=1&datf=1&at=1&fsp=1\""
   ]
  },
  {
   "cell_type": "code",
   "execution_count": 8,
   "id": "a40bbab0",
   "metadata": {},
   "outputs": [
    {
     "data": {
      "text/plain": [
       "'https://www.finam.ru/profile/moex-akcii/segezha_sgzh-tqdp/export/?market=1&em=3713629&token=03AEkXODCOKTSoqa4hJbFCHhatWnVkwN-O_ZHFG5kzNNtuKMAs2V0SGFgzll4bNfy3CyrK-I2_uLEvIc8MQhNENmQYK9gGAxFdpfSog1TsFYk9SQl0Rmxhsl31gzObkMZf1jzhej2KnKDKy3XcbiXLXTKuQZwUFf-ydzCiPaaxiuTfecfYrkOK9AZ2gMyB8RNJwHXkZk0zdCfLLpzQmnIWR95j2uIXNrnPjogcqi1gh5Kz5zaPzQaj3RGzbgjLKtZe_BsqZxNIOXUJ8ur7madiF51Cx2nKNrwO55JNLxQMzHinG2Lq_s9re53e51ldTuNPFot7UgBMhC_mDJNNKDrV_jY6lP_gfdKZNDlNnMXf2nJhS_w4JpVYQqrU6684h0jauEIs3vIz7zKlYPkNRgA9lhe5jHCAzUGl3unRmRz4-K_V3nJe9UQxy71yIp2mW2s-HKYj6sKVt9hwKTTCsAaFspE2MZwlgh0E62X6sfbE2_zvfcv_-1MgF6I2OCQWt1H9yeS2uRivz0-N&code=SGZH&apply=0&df=30&mf=10&yf=2022&from=30.11.2022&dt=30&mt=10&yt=2022&to=30.11.2022&p=2&f=SGZH_221130_221130&e=.csv&cn=SGZH&dtf=1&tmf=1&MSOR=1&mstime=on&mstimever=1&sep=1&sep2=1&datf=1&at=1&fsp=1'"
      ]
     },
     "execution_count": 8,
     "metadata": {},
     "output_type": "execute_result"
    }
   ],
   "source": [
    "\"https://www.finam.ru/profile/moex-akcii/segezha_sgzh-tqdp/export/?market=1&em=3713629&token=03AEkXODCOKTSoqa4hJbFCHhatWnVkwN-O_ZHFG5kzNNtuKMAs2V0SGFgzll4bNfy3CyrK-I2_uLEvIc8MQhNENmQYK9gGAxFdpfSog1TsFYk9SQl0Rmxhsl31gzObkMZf1jzhej2KnKDKy3XcbiXLXTKuQZwUFf-ydzCiPaaxiuTfecfYrkOK9AZ2gMyB8RNJwHXkZk0zdCfLLpzQmnIWR95j2uIXNrnPjogcqi1gh5Kz5zaPzQaj3RGzbgjLKtZe_BsqZxNIOXUJ8ur7madiF51Cx2nKNrwO55JNLxQMzHinG2Lq_s9re53e51ldTuNPFot7UgBMhC_mDJNNKDrV_jY6lP_gfdKZNDlNnMXf2nJhS_w4JpVYQqrU6684h0jauEIs3vIz7zKlYPkNRgA9lhe5jHCAzUGl3unRmRz4-K_V3nJe9UQxy71yIp2mW2s-HKYj6sKVt9hwKTTCsAaFspE2MZwlgh0E62X6sfbE2_zvfcv_-1MgF6I2OCQWt1H9yeS2uRivz0-N&code=SGZH&apply=0&df=30&mf=10&yf=2022&from=30.11.2022&dt=30&mt=10&yt=2022&to=30.11.2022&p=2&f=SGZH_221130_221130&e=.csv&cn=SGZH&dtf=1&tmf=1&MSOR=1&mstime=on&mstimever=1&sep=1&sep2=1&datf=1&at=1&fsp=1\""
   ]
  },
  {
   "cell_type": "code",
   "execution_count": null,
   "id": "81f9202f",
   "metadata": {},
   "outputs": [],
   "source": []
  },
  {
   "cell_type": "code",
   "execution_count": null,
   "id": "cd6defdf",
   "metadata": {},
   "outputs": [],
   "source": []
  },
  {
   "cell_type": "code",
   "execution_count": null,
   "id": "652ef78f",
   "metadata": {},
   "outputs": [],
   "source": []
  },
  {
   "cell_type": "markdown",
   "id": "8599ee5b",
   "metadata": {},
   "source": [
    "SBER: \"https://www.finam.ru/profile/moex-akcii/sberbank/export/?market=1&em=3&token=&code=SBER&apply=0&df=29&mf=11&yf=2022&from=29.11.2022&dt=30&mt=11&yt=2022&to=30.11.2022&p=2&f=onetwo&e=.csv&cn=SBER&dtf=1&tmf=1&MSOR=1&mstime=on&mstimever=1&sep=1&sep2=1&datf=1&at=1&fsp=1\"\n",
    "\n",
    "GAZP: \"https://www.finam.ru/profile/moex-akcii/gazprom/export/?market=1&em=16842&token=&code=GAZP&apply=0&df=30&mf=10&yf=2022&from=30.11.2022&dt=30&mt=10&yt=2022&to=30.11.2022&p=7&f=GAZP_221130_221130&e=.txt&cn=GAZP&dtf=1&tmf=1&MSOR=1&mstime=on&mstimever=1&sep=1&sep2=1&datf=1&at=1\"\n",
    "\n",
    "GMKN: https://www.finam.ru/profile/moex-akcii/nornickel-gmk/export/?market=1&em=795&token=&code=GMKN&apply=0&df=30&mf=10&yf=2022&from=30.11.2022&dt=30&mt=10&yt=2022&to=30.11.2022&p=7&f=GMKN_221130_221130&e=.txt&cn=GMKN&dtf=1&tmf=1&MSOR=1&mstime=on&mstimever=1&sep=1&sep2=1&datf=1&at=1\n",
    "\n",
    "YNDX: https://www.finam.ru/profile/moex-akcii/pllc-yandex-n-v/export/?market=1&em=388383&token=&code=YNDX&apply=0&df=30&mf=10&yf=2022&from=30.11.2022&dt=30&mt=10&yt=2022&to=30.11.2022&p=7&f=YNDX_221130_221130&e=.txt&cn=YNDX&dtf=1&tmf=1&MSOR=1&mstime=on&mstimever=1&sep=1&sep2=1&datf=1&at=1\n",
    "\n",
    "LKOH: https://www.finam.ru/profile/moex-akcii/lukoil/export/?market=1&em=8&token=&code=LKOH&apply=0&df=30&mf=10&yf=2022&from=30.11.2022&dt=30&mt=10&yt=2022&to=30.11.2022&p=7&f=LKOH_221130_221130&e=.txt&cn=LKOH&dtf=1&tmf=1&MSOR=1&mstime=on&mstimever=1&sep=1&sep2=1&datf=1&at=1\n",
    "\n",
    "ROSN: https://www.finam.ru/profile/moex-akcii/rosneft/export/?market=1&em=17273&token=&code=ROSN&apply=0&df=30&mf=10&yf=2022&from=30.11.2022&dt=30&mt=10&yt=2022&to=30.11.2022&p=7&f=ROSN_221130_221130&e=.txt&cn=ROSN&dtf=1&tmf=1&MSOR=1&mstime=on&mstimever=1&sep=1&sep2=1&datf=1&at=1\n",
    "\n",
    "IMOEX: https://www.finam.ru/profile/moex-indeksy/micex/export/?market=91&em=420450&token=&code=IMOEX&apply=0&df=30&mf=10&yf=2022&from=30.11.2022&dt=30&mt=10&yt=2022&to=30.11.2022&p=7&f=IMOEX_221130_221130&e=.txt&cn=IMOEX&dtf=1&tmf=1&MSOR=1&mstime=on&mstimever=1&sep=1&sep2=1&datf=1&at=1\n",
    "\n",
    "BRENT: https://www.finam.ru/profile/tovary/brent/export/?market=24&em=19473&token=&code=BZ&apply=0&df=30&mf=10&yf=2022&from=30.11.2022&dt=30&mt=10&yt=2022&to=30.11.2022&p=7&f=BZ_221130_221130&e=.txt&cn=BZ&dtf=1&tmf=1&MSOR=1&mstime=on&mstimever=1&sep=1&sep2=1&datf=1&at=1\n",
    "\n",
    "NATURAL GAS: https://www.finam.ru/profile/tovary/natural-gas/export/?market=24&em=18949&token=&code=NG&apply=0&df=30&mf=10&yf=2022&from=30.11.2022&dt=30&mt=10&yt=2022&to=30.11.2022&p=7&f=NG_221130_221130&e=.txt&cn=NG&dtf=1&tmf=1&MSOR=1&mstime=on&mstimever=1&sep=1&sep2=1&datf=1&at=1\n",
    "\n",
    "GOLD: https://www.finam.ru/profile/tovary/gold/export/?market=24&em=18953&token=&code=GC&apply=0&df=30&mf=10&yf=2022&from=30.11.2022&dt=30&mt=10&yt=2022&to=30.11.2022&p=7&f=GC_221130_221130&e=.txt&cn=GC&dtf=1&tmf=1&MSOR=1&mstime=on&mstimever=1&sep=1&sep2=1&datf=1&at=1\n",
    "\n",
    "SNP: https://www.finam.ru/profile/mirovye-indeksy/sandp-500/export/?market=6&em=90&token=&code=INX&apply=0&df=30&mf=10&yf=2022&from=30.11.2022&dt=30&mt=10&yt=2022&to=30.11.2022&p=7&f=INX_221130_221130&e=.txt&cn=INX&dtf=1&tmf=1&MSOR=1&mstime=on&mstimever=1&sep=1&sep2=1&datf=1&at=1\n",
    "\n",
    "USDRUB: https://www.finam.ru/profile/mosbirzha-valyutnyj-rynok/usdrubtod-usd-rub/export/?market=45&em=182456&token=&code=USD000000TOD&apply=0&df=30&mf=10&yf=2022&from=30.11.2022&dt=30&mt=10&yt=2022&to=30.11.2022&p=7&f=USD000000TOD_221130_221130&e=.txt&cn=USD000000TOD&dtf=1&tmf=1&MSOR=1&mstime=on&mstimever=1&sep=1&sep2=1&datf=1&at=1\n",
    "\n",
    "CNYRUB: https://www.finam.ru/profile/mosbirzha-valyutnyj-rynok/cny-rubtod-cny-rub/export/?market=45&em=182402&token=&code=CNY000000TOD&apply=0&df=30&mf=10&yf=2022&from=30.11.2022&dt=30&mt=10&yt=2022&to=30.11.2022&p=7&f=CNY000000TOD_221130_221130&e=.txt&cn=CNY000000TOD&dtf=1&tmf=1&MSOR=1&mstime=on&mstimever=1&sep=1&sep2=1&datf=1&at=1\n",
    "\n",
    "EURUSD: https://www.finam.ru/profile/mosbirzha-valyutnyj-rynok/eur-usdtod-eur-usd/export/?market=45&em=182439&token=&code=EURUSD000TOD&apply=0&df=30&mf=10&yf=2022&from=30.11.2022&dt=30&mt=10&yt=2022&to=30.11.2022&p=7&f=EURUSD000TOD_221130_221130&e=.txt&cn=EURUSD000TOD&dtf=1&tmf=1&MSOR=1&mstime=on&mstimever=1&sep=1&sep2=1&datf=1&at=1\n",
    "\n"
   ]
  },
  {
   "cell_type": "code",
   "execution_count": null,
   "id": "7063fc6c",
   "metadata": {},
   "outputs": [],
   "source": []
  },
  {
   "cell_type": "code",
   "execution_count": null,
   "id": "38abd603",
   "metadata": {},
   "outputs": [],
   "source": []
  },
  {
   "cell_type": "code",
   "execution_count": null,
   "id": "cf83dbc2",
   "metadata": {},
   "outputs": [],
   "source": [
    "1H: \"/html/body/div[19]/div/ul/li[7]/a\"\n",
    "1D: \"/html/body/div[19]/div/ul/li[8]/a\""
   ]
  }
 ],
 "metadata": {
  "kernelspec": {
   "display_name": "Python 3 (ipykernel)",
   "language": "python",
   "name": "python3"
  },
  "language_info": {
   "codemirror_mode": {
    "name": "ipython",
    "version": 3
   },
   "file_extension": ".py",
   "mimetype": "text/x-python",
   "name": "python",
   "nbconvert_exporter": "python",
   "pygments_lexer": "ipython3",
   "version": "3.10.10"
  }
 },
 "nbformat": 4,
 "nbformat_minor": 5
}
