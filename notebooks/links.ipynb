{
 "cells": [
  {
   "cell_type": "markdown",
   "id": "68ae1b00",
   "metadata": {},
   "source": [
    "sberbank SBER [SBER](https://www.finam.ru/profile/moex-akcii/sberbank/export/?market=1&em=3&token=&code=SBER&apply=0&df=29&mf=11&yf=2022&from=29.11.2022&dt=30&mt=11&yt=2022&to=30.11.2022&p=2&f=onetwo&e=.csv&cn=SBER&dtf=1&tmf=1&MSOR=1&mstime=on&mstimever=1&sep=1&sep2=1&datf=1&at=1&fsp=1\")\n",
    "\n",
    "gazprom GAZP [GAZP](https://www.finam.ru/profile/moex-akcii/gazprom/export/?market=1&em=16842&token=&code=GAZP&apply=0&df=30&mf=10&yf=2022&from=30.11.2022&dt=30&mt=10&yt=2022&to=30.11.2022&p=7&f=GAZP_221130_221130&e=.txt&cn=GAZP&dtf=1&tmf=1&MSOR=1&mstime=on&mstimever=1&sep=1&sep2=1&datf=1&at=1)\n",
    "\n",
    "nornickel-gmk GMKN [GMKN](https://www.finam.ru/profile/moex-akcii/nornickel-gmk/export/?market=1&em=795&token=&code=GMKN&apply=0&df=30&mf=10&yf=2022&from=30.11.2022&dt=30&mt=10&yt=2022&to=30.11.2022&p=7&f=GMKN_221130_221130&e=.txt&cn=GMKN&dtf=1&tmf=1&MSOR=1&mstime=on&mstimever=1&sep=1&sep2=1&datf=1&at=1)\n",
    "\n",
    "pllc-yandex-n-v YNDX [YNDX](https://www.finam.ru/profile/moex-akcii/pllc-yandex-n-v/export/?market=1&em=388383&token=&code=YNDX&apply=0&df=30&mf=10&yf=2022&from=30.11.2022&dt=30&mt=10&yt=2022&to=30.11.2022&p=7&f=YNDX_221130_221130&e=.txt&cn=YNDX&dtf=1&tmf=1&MSOR=1&mstime=on&mstimever=1&sep=1&sep2=1&datf=1&at=1)\n",
    "\n",
    "lukoil LKOH [LKOH](https://www.finam.ru/profile/moex-akcii/lukoil/export/?market=1&em=8&token=&code=LKOH&apply=0&df=30&mf=10&yf=2022&from=30.11.2022&dt=30&mt=10&yt=2022&to=30.11.2022&p=7&f=LKOH_221130_221130&e=.txt&cn=LKOH&dtf=1&tmf=1&MSOR=1&mstime=on&mstimever=1&sep=1&sep2=1&datf=1&at=1)\n",
    "\n",
    "rosneft ROSN [ROSN](https://www.finam.ru/profile/moex-akcii/rosneft/export/?market=1&em=17273&token=&code=ROSN&apply=0&df=30&mf=10&yf=2022&from=30.11.2022&dt=30&mt=10&yt=2022&to=30.11.2022&p=7&f=ROSN_221130_221130&e=.txt&cn=ROSN&dtf=1&tmf=1&MSOR=1&mstime=on&mstimever=1&sep=1&sep2=1&datf=1&at=1)\n",
    "\n",
    "micex IMOEX [IMOEX](https://www.finam.ru/profile/moex-indeksy/micex/export/?market=91&em=420450&token=&code=IMOEX&apply=0&df=30&mf=10&yf=2022&from=30.11.2022&dt=30&mt=10&yt=2022&to=30.11.2022&p=7&f=IMOEX_221130_221130&e=.txt&cn=IMOEX&dtf=1&tmf=1&MSOR=1&mstime=on&mstimever=1&sep=1&sep2=1&datf=1&at=1)\n",
    "\n",
    "brent BZ [BRENT](https://www.finam.ru/profile/tovary/brent/export/?market=24&em=19473&token=&code=BZ&apply=0&df=30&mf=10&yf=2022&from=30.11.2022&dt=30&mt=10&yt=2022&to=30.11.2022&p=7&f=BZ_221130_221130&e=.txt&cn=BZ&dtf=1&tmf=1&MSOR=1&mstime=on&mstimever=1&sep=1&sep2=1&datf=1&at=1)\n",
    "\n",
    "natural-gas NG [NATURALGAS](https://www.finam.ru/profile/tovary/natural-gas/export/?market=24&em=18949&token=&code=NG&apply=0&df=30&mf=10&yf=2022&from=30.11.2022&dt=30&mt=10&yt=2022&to=30.11.2022&p=7&f=NG_221130_221130&e=.txt&cn=NG&dtf=1&tmf=1&MSOR=1&mstime=on&mstimever=1&sep=1&sep2=1&datf=1&at=1)\n",
    "\n",
    "gold GC [XAUUSD](https://www.finam.ru/profile/tovary/gold/export/?market=24&em=18953&token=&code=GC&apply=0&df=30&mf=10&yf=2022&from=30.11.2022&dt=30&mt=10&yt=2022&to=30.11.2022&p=7&f=GC_221130_221130&e=.txt&cn=GC&dtf=1&tmf=1&MSOR=1&mstime=on&mstimever=1&sep=1&sep2=1&datf=1&at=1)\n",
    "\n",
    "sandp-500 INX [SP500](https://www.finam.ru/profile/mirovye-indeksy/sandp-500/export/?market=6&em=90&token=&code=INX&apply=0&df=30&mf=10&yf=2022&from=30.11.2022&dt=30&mt=10&yt=2022&to=30.11.2022&p=7&f=INX_221130_221130&e=.txt&cn=INX&dtf=1&tmf=1&MSOR=1&mstime=on&mstimever=1&sep=1&sep2=1&datf=1&at=1)\n",
    "\n",
    "usdrubtod-usd-rub USD000000TOD [USDRUB](https://www.finam.ru/profile/mosbirzha-valyutnyj-rynok/usdrubtod-usd-rub/export/?market=45&em=182456&token=&code=USD000000TOD&apply=0&df=30&mf=10&yf=2022&from=30.11.2022&dt=30&mt=10&yt=2022&to=30.11.2022&p=7&f=USD000000TOD_221130_221130&e=.txt&cn=USD000000TOD&dtf=1&tmf=1&MSOR=1&mstime=on&mstimever=1&sep=1&sep2=1&datf=1&at=1)\n",
    "\n",
    "cny-rubtod-cny-rub CNY000000TOD [CNYRUB](https://www.finam.ru/profile/mosbirzha-valyutnyj-rynok/cny-rubtod-cny-rub/export/?market=45&em=182402&token=&code=CNY000000TOD&apply=0&df=30&mf=10&yf=2022&from=30.11.2022&dt=30&mt=10&yt=2022&to=30.11.2022&p=7&f=CNY000000TOD_221130_221130&e=.txt&cn=CNY000000TOD&dtf=1&tmf=1&MSOR=1&mstime=on&mstimever=1&sep=1&sep2=1&datf=1&at=1)\n",
    "\n",
    "eur-usdtod-eur-usd EURUSD000TOD [EURUSD](https://www.finam.ru/profile/mosbirzha-valyutnyj-rynok/eur-usdtod-eur-usd/export/?market=45&em=182439&token=&code=EURUSD000TOD&apply=0&df=30&mf=10&yf=2022&from=30.11.2022&dt=30&mt=10&yt=2022&to=30.11.2022&p=7&f=EURUSD000TOD_221130_221130&e=.txt&cn=EURUSD000TOD&dtf=1&tmf=1&MSOR=1&mstime=on&mstimever=1&sep=1&sep2=1&datf=1&at=1)\n",
    "\n"
   ]
  },
  {
   "cell_type": "code",
   "execution_count": null,
   "id": "9b417f90",
   "metadata": {},
   "outputs": [],
   "source": []
  }
 ],
 "metadata": {
  "kernelspec": {
   "display_name": "Python 3 (ipykernel)",
   "language": "python",
   "name": "python3"
  },
  "language_info": {
   "codemirror_mode": {
    "name": "ipython",
    "version": 3
   },
   "file_extension": ".py",
   "mimetype": "text/x-python",
   "name": "python",
   "nbconvert_exporter": "python",
   "pygments_lexer": "ipython3",
   "version": "3.10.6"
  }
 },
 "nbformat": 4,
 "nbformat_minor": 5
}
